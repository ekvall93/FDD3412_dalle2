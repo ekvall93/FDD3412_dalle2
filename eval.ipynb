{
 "cells": [
  {
   "cell_type": "code",
   "execution_count": null,
   "metadata": {},
   "outputs": [],
   "source": [
    "import matplotlib.pyplot as plt\n",
    "from dalle2 import DALLE2, DiffusionPriorNetwork, DiffusionPrior, Unet, Decoder, OpenClip\n",
    "import pickle as pkl\n",
    "import numpy as np\n",
    "from dalle2 import DALLE2\n",
    "\n",
    "\n",
    "clip = OpenClip(name='hf-hub:wisdomik/QuiltNet-B-32', pretrained=None)"
   ]
  },
  {
   "cell_type": "code",
   "execution_count": null,
   "metadata": {},
   "outputs": [],
   "source": [
    "from diffusers import DiffusionPipeline\n",
    "import torch\n",
    "\n",
    "pipeline = DiffusionPipeline.from_pretrained(\"runwayml/stable-diffusion-v1-5\", torch_dtype=torch.float16)\n",
    "pipeline.to(\"cuda\")"
   ]
  },
  {
   "cell_type": "code",
   "execution_count": null,
   "metadata": {},
   "outputs": [],
   "source": [
    "diffusion_prior_state_dict = torch.load('/data/ekvall/wandb/clip_prior_epoch_16_step_9000_state_dict.pt')\n",
    "decoder_state_dict = torch.load('/data/ekvall/wandb/clip_decoder_epoch_1_step_48000_state_dict.pt')"
   ]
  },
  {
   "cell_type": "code",
   "execution_count": null,
   "metadata": {},
   "outputs": [],
   "source": [
    "unet1 = Unet(\n",
    "    dim = 128,\n",
    "    image_embed_dim = 512,\n",
    "    cond_dim = 128,\n",
    "    channels = 3,\n",
    "    dim_mults=(1, 2, 4, 8),\n",
    "    text_embed_dim = 512,\n",
    "    #cond_on_text_encodings = True  # set to True for any unets that need to be conditioned on text encodings (ex. first unet in cascade)\n",
    ").cuda()\n",
    "\n",
    "decoder = Decoder(\n",
    "    unet = unet1,\n",
    "    image_sizes = [224],\n",
    "    clip = clip,\n",
    "    timesteps = 1000,\n",
    "    image_cond_drop_prob = 0.1,\n",
    "    text_cond_drop_prob = 0.5\n",
    ").cuda()"
   ]
  },
  {
   "cell_type": "code",
   "execution_count": null,
   "metadata": {},
   "outputs": [],
   "source": [
    "prior_network = DiffusionPriorNetwork(\n",
    "    dim = 512,\n",
    "    depth = 6,\n",
    "    dim_head = 64,\n",
    "    heads = 8\n",
    ").cuda()\n",
    "\n",
    "diffusion_prior = DiffusionPrior(\n",
    "    net = prior_network,\n",
    "    clip = clip,\n",
    "    timesteps = 100,\n",
    "    cond_drop_prob = 0.2\n",
    ").cuda()"
   ]
  },
  {
   "cell_type": "code",
   "execution_count": null,
   "metadata": {},
   "outputs": [],
   "source": [
    "decoder.load_state_dict(decoder_state_dict)\n"
   ]
  },
  {
   "cell_type": "code",
   "execution_count": null,
   "metadata": {},
   "outputs": [],
   "source": [
    "diffusion_prior.load_state_dict(diffusion_prior_state_dict)"
   ]
  },
  {
   "cell_type": "code",
   "execution_count": null,
   "metadata": {},
   "outputs": [],
   "source": [
    "dalle2 = DALLE2(\n",
    "    prior = diffusion_prior,\n",
    "    decoder = decoder\n",
    ")\n",
    "\n",
    "# send the text as a string if you want to use the simple tokenizer from DALLE v1\n",
    "# or you can do it as token ids, if you have your own tokenizer\n"
   ]
  },
  {
   "cell_type": "code",
   "execution_count": null,
   "metadata": {},
   "outputs": [],
   "source": [
    "tissues = ['Adrenal gland',\n",
    " 'Bile duct',\n",
    " 'Bladder',\n",
    " 'Breast',\n",
    " 'Cervix',\n",
    " 'Colon',\n",
    " 'Esophagus',\n",
    " 'Head and Neck',\n",
    " 'Kidney',\n",
    " 'Liver',\n",
    " 'Lung',\n",
    " 'Ovarian',\n",
    " 'Pancreatic',\n",
    " 'Prostate',\n",
    " 'Skin',\n",
    " 'Stomach',\n",
    " 'Testis',\n",
    " 'Thyroid',\n",
    " 'Uterus']\n",
    "\n",
    "tissues_small = tissues[:3]"
   ]
  },
  {
   "cell_type": "code",
   "execution_count": null,
   "metadata": {},
   "outputs": [],
   "source": [
    "pan_nuke_images = np.load(open('/data/ekvall/kaggle/Part_1/Images/images.npy', 'rb'))\n",
    "types = np.load(open('/data/ekvall/kaggle/Part_1/Images/types.npy', 'rb'))"
   ]
  },
  {
   "cell_type": "code",
   "execution_count": null,
   "metadata": {},
   "outputs": [],
   "source": [
    "for t, tissue in zip(set(types), tissues_small):\n",
    "    selected_images = pan_nuke_images[types == t][:5]\n",
    "    \n",
    "    \n",
    "    texts = [f'{tissue} H&E stained tissue sample'] * 5\n",
    "    images = dalle2(texts) # (1, 3, 256, 256)\n",
    "    images = images.permute(0, 2, 3, 1).cpu().numpy()\n",
    "    stable_difusion_images = pipeline([f'{tissue} H&E stained tissue sample'] * 5).images\n",
    "    \n",
    "    \n",
    "    fig, axs = plt.subplots(3, 5, figsize=(20, 15))\n",
    "    \n",
    "    overall_title = f\"{tissue}\"\n",
    "    fig.suptitle(overall_title, fontsize=24, y=1.05)  # Adjust y-coordinate for the overall title\n",
    "\n",
    "    \n",
    "    # Titles for each row\n",
    "    row_titles = [\"DALL-E Generated Images\", \"Stable Diffusion Generated Images\", \"PanNuke Images\"]\n",
    "    \n",
    "    #plot 5 images in the first row, and plot 5 stable diffusion images in the second row\n",
    "    \n",
    "    for i in range(5):\n",
    "        axs[0, i].imshow(images[i])\n",
    "        axs[1, i].imshow(stable_difusion_images[i])\n",
    "        axs[2, i].imshow(selected_images[i] / 255)\n",
    "\n",
    "        \n",
    "        \n",
    "    # Set titles for each row with annotations\n",
    "    fig.text(0.5, 0.95, row_titles[0], ha='center', va='center', fontsize=20)  # First row\n",
    "    fig.text(0.5, 0.63, row_titles[1], ha='center', va='center', fontsize=20)  # Second row\n",
    "    fig.text(0.5, 0.30, row_titles[2], ha='center', va='center', fontsize=20)  # Third row\n",
    "    \n",
    "    plt.tight_layout()\n",
    "    plt.show()\n",
    "    "
   ]
  },
  {
   "cell_type": "code",
   "execution_count": null,
   "metadata": {},
   "outputs": [],
   "source": []
  }
 ],
 "metadata": {
  "kernelspec": {
   "display_name": "stablediffusion",
   "language": "python",
   "name": "python3"
  },
  "language_info": {
   "codemirror_mode": {
    "name": "ipython",
    "version": 3
   },
   "file_extension": ".py",
   "mimetype": "text/x-python",
   "name": "python",
   "nbconvert_exporter": "python",
   "pygments_lexer": "ipython3",
   "version": "3.9.18"
  },
  "orig_nbformat": 4
 },
 "nbformat": 4,
 "nbformat_minor": 2
}
